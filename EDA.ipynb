{
 "cells": [
  {
   "cell_type": "markdown",
   "id": "2e5210b0-1d80-4acc-a2d6-f473095f622c",
   "metadata": {},
   "source": [
    "# Buisness Problem\n"
   ]
  },
  {
   "cell_type": "markdown",
   "id": "316089cc-7e7a-4556-8a68-58a02af77957",
   "metadata": {},
   "source": [
    "# Research Questions:\n",
    "1. How should ER Games ensure they are in line with the trends of the industry?\n",
    "2. Which market besides the US should ER Games target when releasing the game?\n",
    "3. What impact does the changing preferences and demographics of the typical consumer have on the focus of ER Games?"
   ]
  },
  {
   "cell_type": "code",
   "execution_count": 261,
   "id": "c466d76c-56ba-4bc6-aa0c-c112a24c2950",
   "metadata": {},
   "outputs": [],
   "source": [
    "import pandas as pd\n",
    "import numpy as np\n",
    "import matplotlib.pyplot as plt"
   ]
  },
  {
   "cell_type": "markdown",
   "id": "03eed5ac",
   "metadata": {},
   "source": [
    "# Preparing Data and EDA"
   ]
  },
  {
   "cell_type": "code",
   "execution_count": 262,
   "id": "e1744bef",
   "metadata": {},
   "outputs": [],
   "source": [
    "sales = pd.read_csv(\"Console.txt\", sep=\"\\t\", encoding='mac_roman')"
   ]
  },
  {
   "cell_type": "code",
   "execution_count": 263,
   "id": "29659395",
   "metadata": {},
   "outputs": [
    {
     "name": "stdout",
     "output_type": "stream",
     "text": [
      "<class 'pandas.core.frame.DataFrame'>\n",
      "RangeIndex: 8063 entries, 0 to 8062\n",
      "Data columns (total 15 columns):\n",
      " #   Column           Non-Null Count  Dtype  \n",
      "---  ------           --------------  -----  \n",
      " 0   name             8063 non-null   object \n",
      " 1   platform         8063 non-null   object \n",
      " 2   year_of_release  8063 non-null   int64  \n",
      " 3   genre            8063 non-null   object \n",
      " 4   publisher        8063 non-null   object \n",
      " 5   na_sales         8063 non-null   int64  \n",
      " 6   eu_sales         8063 non-null   int64  \n",
      " 7   jp_sales         8063 non-null   int64  \n",
      " 8   other_sales      8063 non-null   int64  \n",
      " 9   critic_score     6754 non-null   float64\n",
      " 10  critic_count     6754 non-null   float64\n",
      " 11  user_score       6390 non-null   float64\n",
      " 12  user_count       6390 non-null   float64\n",
      " 13  developer        8063 non-null   object \n",
      " 14  rating           8063 non-null   object \n",
      "dtypes: float64(4), int64(5), object(6)\n",
      "memory usage: 945.0+ KB\n"
     ]
    }
   ],
   "source": [
    "sales.info() # Missing values in critic score"
   ]
  },
  {
   "cell_type": "code",
   "execution_count": 264,
   "id": "1a24c2f8",
   "metadata": {},
   "outputs": [
    {
     "data": {
      "text/plain": [
       "array([[<Axes: title={'center': 'year_of_release'}>,\n",
       "        <Axes: title={'center': 'critic_score'}>],\n",
       "       [<Axes: title={'center': 'critic_count'}>,\n",
       "        <Axes: title={'center': 'user_score'}>],\n",
       "       [<Axes: title={'center': 'user_count'}>, <Axes: >]], dtype=object)"
      ]
     },
     "execution_count": 264,
     "metadata": {},
     "output_type": "execute_result"
    },
    {
     "data": {
      "image/png": "[encoded data removed]",
      "text/plain": [
       "<Figure size 1080x720 with 6 Axes>"
      ]
     },
     "metadata": {
      "needs_background": "light"
     },
     "output_type": "display_data"
    }
   ],
   "source": [
    "sales[[\"year_of_release\",\"critic_score\",\"critic_count\",\"user_score\",\"user_count\"]].hist(bins=50, figsize=(15,10))"
   ]
  },
  {
   "cell_type": "markdown",
   "id": "b0837b63",
   "metadata": {},
   "source": [
    "### Removing Duplicates"
   ]
  },
  {
   "cell_type": "code",
   "execution_count": 265,
   "id": "8bb4a8e9",
   "metadata": {},
   "outputs": [
    {
     "data": {
      "text/html": [
       "<div>\n",
       "<style scoped>\n",
       "    .dataframe tbody tr th:only-of-type {\n",
       "        vertical-align: middle;\n",
       "    }\n",
       "\n",
       "    .dataframe tbody tr th {\n",
       "        vertical-align: top;\n",
       "    }\n",
       "\n",
       "    .dataframe thead th {\n",
       "        text-align: right;\n",
       "    }\n",
       "</style>\n",
       "<table border=\"1\" class=\"dataframe\">\n",
       "  <thead>\n",
       "    <tr style=\"text-align: right;\">\n",
       "      <th></th>\n",
       "      <th>name</th>\n",
       "      <th>platform</th>\n",
       "      <th>year_of_release</th>\n",
       "      <th>genre</th>\n",
       "      <th>publisher</th>\n",
       "      <th>na_sales</th>\n",
       "      <th>eu_sales</th>\n",
       "      <th>jp_sales</th>\n",
       "      <th>other_sales</th>\n",
       "      <th>critic_score</th>\n",
       "      <th>critic_count</th>\n",
       "      <th>user_score</th>\n",
       "      <th>user_count</th>\n",
       "      <th>developer</th>\n",
       "      <th>rating</th>\n",
       "    </tr>\n",
       "  </thead>\n",
       "  <tbody>\n",
       "    <tr>\n",
       "      <th>428</th>\n",
       "      <td>pro evolution soccer 2011</td>\n",
       "      <td>PS3</td>\n",
       "      <td>2010</td>\n",
       "      <td>Sports</td>\n",
       "      <td>Konami Digital Entertainment</td>\n",
       "      <td>290000</td>\n",
       "      <td>1170000</td>\n",
       "      <td>540000</td>\n",
       "      <td>410000</td>\n",
       "      <td>7.7</td>\n",
       "      <td>40.0</td>\n",
       "      <td>6.8</td>\n",
       "      <td>85.0</td>\n",
       "      <td>Konami</td>\n",
       "      <td>E</td>\n",
       "    </tr>\n",
       "    <tr>\n",
       "      <th>1660</th>\n",
       "      <td>pro evolution soccer 2011</td>\n",
       "      <td>PSP</td>\n",
       "      <td>2010</td>\n",
       "      <td>Sports</td>\n",
       "      <td>Konami Digital Entertainment</td>\n",
       "      <td>50000</td>\n",
       "      <td>300000</td>\n",
       "      <td>290000</td>\n",
       "      <td>160000</td>\n",
       "      <td>7.4</td>\n",
       "      <td>10.0</td>\n",
       "      <td>5.8</td>\n",
       "      <td>5.0</td>\n",
       "      <td>Konami</td>\n",
       "      <td>E</td>\n",
       "    </tr>\n",
       "    <tr>\n",
       "      <th>2122</th>\n",
       "      <td>pro evolution soccer 2011</td>\n",
       "      <td>X360</td>\n",
       "      <td>2010</td>\n",
       "      <td>Sports</td>\n",
       "      <td>Konami Digital Entertainment</td>\n",
       "      <td>90000</td>\n",
       "      <td>440000</td>\n",
       "      <td>0</td>\n",
       "      <td>70000</td>\n",
       "      <td>7.9</td>\n",
       "      <td>43.0</td>\n",
       "      <td>5.9</td>\n",
       "      <td>33.0</td>\n",
       "      <td>Konami</td>\n",
       "      <td>E</td>\n",
       "    </tr>\n",
       "    <tr>\n",
       "      <th>2971</th>\n",
       "      <td>pro evolution soccer 2011</td>\n",
       "      <td>PS2</td>\n",
       "      <td>2010</td>\n",
       "      <td>Sports</td>\n",
       "      <td>Konami Digital Entertainment</td>\n",
       "      <td>40000</td>\n",
       "      <td>210000</td>\n",
       "      <td>50000</td>\n",
       "      <td>110000</td>\n",
       "      <td>NaN</td>\n",
       "      <td>NaN</td>\n",
       "      <td>6.7</td>\n",
       "      <td>7.0</td>\n",
       "      <td>Konami</td>\n",
       "      <td>E</td>\n",
       "    </tr>\n",
       "    <tr>\n",
       "      <th>4366</th>\n",
       "      <td>pro evolution soccer 2011</td>\n",
       "      <td>Weii</td>\n",
       "      <td>2010</td>\n",
       "      <td>Sports</td>\n",
       "      <td>Konami Digital Entertainment</td>\n",
       "      <td>70000</td>\n",
       "      <td>100000</td>\n",
       "      <td>30000</td>\n",
       "      <td>20000</td>\n",
       "      <td>7.8</td>\n",
       "      <td>9.0</td>\n",
       "      <td>5.4</td>\n",
       "      <td>7.0</td>\n",
       "      <td>Konami</td>\n",
       "      <td>E</td>\n",
       "    </tr>\n",
       "  </tbody>\n",
       "</table>\n",
       "</div>"
      ],
      "text/plain": [
       "                           name platform  year_of_release   genre   \n",
       "428   pro evolution soccer 2011      PS3             2010  Sports  \\\n",
       "1660  pro evolution soccer 2011      PSP             2010  Sports   \n",
       "2122  pro evolution soccer 2011     X360             2010  Sports   \n",
       "2971  pro evolution soccer 2011      PS2             2010  Sports   \n",
       "4366  pro evolution soccer 2011     Weii             2010  Sports   \n",
       "\n",
       "                         publisher  na_sales  eu_sales  jp_sales  other_sales   \n",
       "428   Konami Digital Entertainment    290000   1170000    540000       410000  \\\n",
       "1660  Konami Digital Entertainment     50000    300000    290000       160000   \n",
       "2122  Konami Digital Entertainment     90000    440000         0        70000   \n",
       "2971  Konami Digital Entertainment     40000    210000     50000       110000   \n",
       "4366  Konami Digital Entertainment     70000    100000     30000        20000   \n",
       "\n",
       "      critic_score  critic_count  user_score  user_count developer rating  \n",
       "428            7.7          40.0         6.8        85.0    Konami      E  \n",
       "1660           7.4          10.0         5.8         5.0    Konami      E  \n",
       "2122           7.9          43.0         5.9        33.0    Konami      E  \n",
       "2971           NaN           NaN         6.7         7.0    Konami      E  \n",
       "4366           7.8           9.0         5.4         7.0    Konami      E  "
      ]
     },
     "execution_count": 265,
     "metadata": {},
     "output_type": "execute_result"
    }
   ],
   "source": [
    "sales[sales[\"name\"] == \"pro evolution soccer 2011\"] # Duplicates are prevelant but for different platforms "
   ]
  },
  {
   "cell_type": "code",
   "execution_count": 266,
   "id": "7e1521ba",
   "metadata": {},
   "outputs": [
    {
     "data": {
      "text/plain": [
       "0.41274959692422175"
      ]
     },
     "execution_count": 266,
     "metadata": {},
     "output_type": "execute_result"
    }
   ],
   "source": [
    "sales[\"name\"].duplicated().sum() / sales.shape[0] # 41% of games are duplicates but different conosles "
   ]
  },
  {
   "cell_type": "code",
   "execution_count": 267,
   "id": "756afcab",
   "metadata": {},
   "outputs": [],
   "source": [
    "sales = sales.drop(\"platform\",axis=1) # dropping platform so that we can keep game titles together"
   ]
  },
  {
   "cell_type": "code",
   "execution_count": 268,
   "id": "8c3e2e48",
   "metadata": {},
   "outputs": [],
   "source": [
    "sales = sales.groupby([\"name\",\"year_of_release\",\"genre\",\"rating\"]).agg(\n",
    "    {\"na_sales\":\"sum\", \"eu_sales\":\"sum\",\"jp_sales\":\"sum\",\n",
    "    \"other_sales\":\"sum\", \"critic_score\":\"mean\",\"critic_count\":\"sum\",\n",
    "    \"user_score\":\"mean\",\"user_count\":\"sum\"}).reset_index()"
   ]
  },
  {
   "cell_type": "code",
   "execution_count": 269,
   "id": "c1606bf1",
   "metadata": {},
   "outputs": [
    {
     "data": {
      "text/plain": [
       "0.07807632398753894"
      ]
     },
     "execution_count": 269,
     "metadata": {},
     "output_type": "execute_result"
    }
   ],
   "source": [
    "sales[\"name\"].duplicated().sum() / sales.shape[0] # Now less "
   ]
  },
  {
   "cell_type": "markdown",
   "id": "f5764aff",
   "metadata": {},
   "source": [
    "### Converting Sales to Per Capita Sales (100,000)"
   ]
  },
  {
   "cell_type": "code",
   "execution_count": 309,
   "id": "eff1aad7",
   "metadata": {},
   "outputs": [
    {
     "data": {
      "text/plain": [
       "2007"
      ]
     },
     "execution_count": 309,
     "metadata": {},
     "output_type": "execute_result"
    }
   ],
   "source": [
    "years = sales['year_of_release'].value_counts().reset_index()\n",
    "years[\"percentage\"] = years[\"count\"] / years[\"count\"].sum()\n",
    "round(sum(list(years[\"year_of_release\"] * years[\"percentage\"]))) # Expected year is 2007 "
   ]
  },
  {
   "cell_type": "code",
   "execution_count": 270,
   "id": "100bf356",
   "metadata": {},
   "outputs": [],
   "source": [
    "# From WorldOMeters.com\n",
    "# change to 2009 \n",
    "population_2009 = {\n",
    "    \"NA\": 342_231_802,\n",
    "    \"EU\": 734_902_805,\n",
    "    \"JP\": 128_117_042\n",
    "}"
   ]
  },
  {
   "cell_type": "code",
   "execution_count": 271,
   "id": "d7b493f3",
   "metadata": {},
   "outputs": [],
   "source": [
    "def transform_sales(data):\n",
    "    data[\"na_sales\"] = data[\"na_sales\"].apply(lambda x: round(x / population_2009[\"NA\"] * 100_000,2))\n",
    "    data[\"eu_sales\"] = data[\"eu_sales\"].apply(lambda x: round(x / population_2009[\"EU\"] * 100_000,2))\n",
    "    data[\"jp_sales\"] = data[\"jp_sales\"].apply(lambda x: round(x / population_2009[\"JP\"] * 100_000,2))"
   ]
  },
  {
   "cell_type": "code",
   "execution_count": 272,
   "id": "1e831e5b",
   "metadata": {},
   "outputs": [],
   "source": [
    "transform_sales(sales)"
   ]
  },
  {
   "cell_type": "code",
   "execution_count": 276,
   "id": "4a8e93ad",
   "metadata": {},
   "outputs": [
    {
     "data": {
      "text/html": [
       "<div>\n",
       "<style scoped>\n",
       "    .dataframe tbody tr th:only-of-type {\n",
       "        vertical-align: middle;\n",
       "    }\n",
       "\n",
       "    .dataframe tbody tr th {\n",
       "        vertical-align: top;\n",
       "    }\n",
       "\n",
       "    .dataframe thead th {\n",
       "        text-align: right;\n",
       "    }\n",
       "</style>\n",
       "<table border=\"1\" class=\"dataframe\">\n",
       "  <thead>\n",
       "    <tr style=\"text-align: right;\">\n",
       "      <th></th>\n",
       "      <th>name</th>\n",
       "      <th>year_of_release</th>\n",
       "      <th>genre</th>\n",
       "      <th>rating</th>\n",
       "      <th>na_sales</th>\n",
       "      <th>eu_sales</th>\n",
       "      <th>jp_sales</th>\n",
       "      <th>critic_score</th>\n",
       "      <th>critic_count</th>\n",
       "      <th>user_score</th>\n",
       "      <th>user_count</th>\n",
       "    </tr>\n",
       "  </thead>\n",
       "  <tbody>\n",
       "    <tr>\n",
       "      <th>0</th>\n",
       "      <td>Tales of Xillia 2</td>\n",
       "      <td>2012</td>\n",
       "      <td>Role-Playing</td>\n",
       "      <td>T</td>\n",
       "      <td>58.44</td>\n",
       "      <td>16.33</td>\n",
       "      <td>351.24</td>\n",
       "      <td>7.1</td>\n",
       "      <td>59.0</td>\n",
       "      <td>7.90</td>\n",
       "      <td>216.0</td>\n",
       "    </tr>\n",
       "    <tr>\n",
       "      <th>1</th>\n",
       "      <td>.hack//Infection Part 1</td>\n",
       "      <td>2002</td>\n",
       "      <td>Role-Playing</td>\n",
       "      <td>T</td>\n",
       "      <td>143.18</td>\n",
       "      <td>51.71</td>\n",
       "      <td>202.94</td>\n",
       "      <td>7.5</td>\n",
       "      <td>35.0</td>\n",
       "      <td>8.50</td>\n",
       "      <td>60.0</td>\n",
       "    </tr>\n",
       "    <tr>\n",
       "      <th>2</th>\n",
       "      <td>.hack//Mutation Part 2</td>\n",
       "      <td>2002</td>\n",
       "      <td>Role-Playing</td>\n",
       "      <td>T</td>\n",
       "      <td>67.21</td>\n",
       "      <td>24.49</td>\n",
       "      <td>156.11</td>\n",
       "      <td>7.6</td>\n",
       "      <td>24.0</td>\n",
       "      <td>8.90</td>\n",
       "      <td>81.0</td>\n",
       "    </tr>\n",
       "    <tr>\n",
       "      <th>3</th>\n",
       "      <td>.hack//Outbreak Part 3</td>\n",
       "      <td>2002</td>\n",
       "      <td>Role-Playing</td>\n",
       "      <td>T</td>\n",
       "      <td>40.91</td>\n",
       "      <td>14.97</td>\n",
       "      <td>132.69</td>\n",
       "      <td>7.0</td>\n",
       "      <td>23.0</td>\n",
       "      <td>8.70</td>\n",
       "      <td>19.0</td>\n",
       "    </tr>\n",
       "    <tr>\n",
       "      <th>4</th>\n",
       "      <td>007 Racing</td>\n",
       "      <td>2000</td>\n",
       "      <td>Racing</td>\n",
       "      <td>T</td>\n",
       "      <td>87.66</td>\n",
       "      <td>27.21</td>\n",
       "      <td>0.00</td>\n",
       "      <td>5.1</td>\n",
       "      <td>16.0</td>\n",
       "      <td>4.60</td>\n",
       "      <td>14.0</td>\n",
       "    </tr>\n",
       "    <tr>\n",
       "      <th>...</th>\n",
       "      <td>...</td>\n",
       "      <td>...</td>\n",
       "      <td>...</td>\n",
       "      <td>...</td>\n",
       "      <td>...</td>\n",
       "      <td>...</td>\n",
       "      <td>...</td>\n",
       "      <td>...</td>\n",
       "      <td>...</td>\n",
       "      <td>...</td>\n",
       "      <td>...</td>\n",
       "    </tr>\n",
       "    <tr>\n",
       "      <th>5131</th>\n",
       "      <td>inFAMOUS: Second Son</td>\n",
       "      <td>2014</td>\n",
       "      <td>Action</td>\n",
       "      <td>T</td>\n",
       "      <td>374.02</td>\n",
       "      <td>133.35</td>\n",
       "      <td>54.64</td>\n",
       "      <td>8.0</td>\n",
       "      <td>90.0</td>\n",
       "      <td>7.90</td>\n",
       "      <td>2944.0</td>\n",
       "    </tr>\n",
       "    <tr>\n",
       "      <th>5132</th>\n",
       "      <td>nail'd</td>\n",
       "      <td>2010</td>\n",
       "      <td>Racing</td>\n",
       "      <td>E10+</td>\n",
       "      <td>46.75</td>\n",
       "      <td>5.44</td>\n",
       "      <td>0.00</td>\n",
       "      <td>6.5</td>\n",
       "      <td>85.0</td>\n",
       "      <td>6.65</td>\n",
       "      <td>29.0</td>\n",
       "    </tr>\n",
       "    <tr>\n",
       "      <th>5133</th>\n",
       "      <td>pro evolution soccer 2011</td>\n",
       "      <td>2010</td>\n",
       "      <td>Sports</td>\n",
       "      <td>E</td>\n",
       "      <td>157.79</td>\n",
       "      <td>302.08</td>\n",
       "      <td>710.29</td>\n",
       "      <td>7.7</td>\n",
       "      <td>102.0</td>\n",
       "      <td>6.12</td>\n",
       "      <td>137.0</td>\n",
       "    </tr>\n",
       "    <tr>\n",
       "      <th>5134</th>\n",
       "      <td>uDraw Studio</td>\n",
       "      <td>2010</td>\n",
       "      <td>Misc</td>\n",
       "      <td>E</td>\n",
       "      <td>482.13</td>\n",
       "      <td>77.56</td>\n",
       "      <td>0.00</td>\n",
       "      <td>7.1</td>\n",
       "      <td>9.0</td>\n",
       "      <td>NaN</td>\n",
       "      <td>0.0</td>\n",
       "    </tr>\n",
       "    <tr>\n",
       "      <th>5135</th>\n",
       "      <td>uDraw Studio: Instant Artist</td>\n",
       "      <td>2011</td>\n",
       "      <td>Misc</td>\n",
       "      <td>E</td>\n",
       "      <td>20.45</td>\n",
       "      <td>13.61</td>\n",
       "      <td>0.00</td>\n",
       "      <td>5.4</td>\n",
       "      <td>5.0</td>\n",
       "      <td>5.70</td>\n",
       "      <td>6.0</td>\n",
       "    </tr>\n",
       "  </tbody>\n",
       "</table>\n",
       "<p>5136 rows × 11 columns</p>\n",
       "</div>"
      ],
      "text/plain": [
       "                              name  year_of_release         genre rating   \n",
       "0                Tales of Xillia 2             2012  Role-Playing      T  \\\n",
       "1          .hack//Infection Part 1             2002  Role-Playing      T   \n",
       "2           .hack//Mutation Part 2             2002  Role-Playing      T   \n",
       "3           .hack//Outbreak Part 3             2002  Role-Playing      T   \n",
       "4                       007 Racing             2000        Racing      T   \n",
       "...                            ...              ...           ...    ...   \n",
       "5131          inFAMOUS: Second Son             2014        Action      T   \n",
       "5132                        nail'd             2010        Racing   E10+   \n",
       "5133     pro evolution soccer 2011             2010        Sports      E   \n",
       "5134                  uDraw Studio             2010          Misc      E   \n",
       "5135  uDraw Studio: Instant Artist             2011          Misc      E   \n",
       "\n",
       "      na_sales  eu_sales  jp_sales  critic_score  critic_count  user_score   \n",
       "0        58.44     16.33    351.24           7.1          59.0        7.90  \\\n",
       "1       143.18     51.71    202.94           7.5          35.0        8.50   \n",
       "2        67.21     24.49    156.11           7.6          24.0        8.90   \n",
       "3        40.91     14.97    132.69           7.0          23.0        8.70   \n",
       "4        87.66     27.21      0.00           5.1          16.0        4.60   \n",
       "...        ...       ...       ...           ...           ...         ...   \n",
       "5131    374.02    133.35     54.64           8.0          90.0        7.90   \n",
       "5132     46.75      5.44      0.00           6.5          85.0        6.65   \n",
       "5133    157.79    302.08    710.29           7.7         102.0        6.12   \n",
       "5134    482.13     77.56      0.00           7.1           9.0         NaN   \n",
       "5135     20.45     13.61      0.00           5.4           5.0        5.70   \n",
       "\n",
       "      user_count  \n",
       "0          216.0  \n",
       "1           60.0  \n",
       "2           81.0  \n",
       "3           19.0  \n",
       "4           14.0  \n",
       "...          ...  \n",
       "5131      2944.0  \n",
       "5132        29.0  \n",
       "5133       137.0  \n",
       "5134         0.0  \n",
       "5135         6.0  \n",
       "\n",
       "[5136 rows x 11 columns]"
      ]
     },
     "execution_count": 276,
     "metadata": {},
     "output_type": "execute_result"
    }
   ],
   "source": [
    "sales.drop(\"other_sales\",axis=1) # we will drop this column since we cannot calculate sales per capita for \"other\""
   ]
  },
  {
   "cell_type": "code",
   "execution_count": 280,
   "id": "bb9644a9",
   "metadata": {},
   "outputs": [
    {
     "data": {
      "text/plain": [
       "Text(0.5, 1.0, 'Sales by Region Per 100,000 Population')"
      ]
     },
     "execution_count": 280,
     "metadata": {},
     "output_type": "execute_result"
    },
    {
     "data": {
      "image/png": "[encoded data removed]",
      "text/plain": [
       "<Figure size 432x288 with 1 Axes>"
      ]
     },
     "metadata": {
      "needs_background": "light"
     },
     "output_type": "display_data"
    }
   ],
   "source": [
    "(sales[[\"na_sales\",\"eu_sales\",\"jp_sales\"]].sum().sort_values(ascending=False)).plot(kind=\"bar\")\n",
    "\n",
    "plt.xlabel('Region')\n",
    "plt.ylabel('Sales')\n",
    "plt.title('Sales by Region Per 100,000 Population')"
   ]
  },
  {
   "cell_type": "markdown",
   "id": "a902db26",
   "metadata": {},
   "source": [
    "Regardless of population size NA dominates global sales of video games, followed by Japan, and Europe."
   ]
  },
  {
   "cell_type": "code",
   "execution_count": 283,
   "id": "f941370c",
   "metadata": {},
   "outputs": [
    {
     "data": {
      "text/plain": [
       "Text(0.5, 1.0, 'Sales by Region for Role-Playing Games Per 100,000')"
      ]
     },
     "execution_count": 283,
     "metadata": {},
     "output_type": "execute_result"
    },
    {
     "data": {
      "image/png": "[encoded data removed]",
      "text/plain": [
       "<Figure size 432x288 with 1 Axes>"
      ]
     },
     "metadata": {
      "needs_background": "light"
     },
     "output_type": "display_data"
    }
   ],
   "source": [
    "# Global Sales for Role-Playing \n",
    "role_playing = sales[sales[\"genre\"] == \"Role-Playing\"]\n",
    "role_playing[[\"na_sales\",\"eu_sales\",\"jp_sales\"]].sum().sort_values(ascending=False).plot(kind=\"bar\")\n",
    "\n",
    "\n",
    "plt.xlabel('Region')\n",
    "plt.ylabel('Sales')\n",
    "plt.title('Sales by Region for Role-Playing Games Per 100,000')"
   ]
  },
  {
   "cell_type": "markdown",
   "id": "01b8ee9f",
   "metadata": {},
   "source": [
    "Japan has arond $80,000 worth of sales for every 100,000 people for puzzle games, while North America has around $60,000 per 100,000."
   ]
  },
  {
   "cell_type": "code",
   "execution_count": 312,
   "id": "556d72c4",
   "metadata": {},
   "outputs": [
    {
     "data": {
      "text/plain": [
       "Text(0.5, 1.0, 'Sales by Region for Puzzle Games Per 100,000 Population')"
      ]
     },
     "execution_count": 312,
     "metadata": {},
     "output_type": "execute_result"
    },
    {
     "data": {
      "image/png": "[encoded data removed]",
      "text/plain": [
       "<Figure size 432x288 with 1 Axes>"
      ]
     },
     "metadata": {
      "needs_background": "light"
     },
     "output_type": "display_data"
    }
   ],
   "source": [
    "# Global Sales for Puzzle-Games\n",
    "puzzle = sales[sales[\"genre\"] == \"Puzzle\"]\n",
    "puzzle[[\"na_sales\",\"eu_sales\",\"jp_sales\"]].sum().sort_values(ascending=False).plot(kind=\"bar\")\n",
    "\n",
    "\n",
    "plt.xlabel('Region')\n",
    "plt.ylabel('Sales')\n",
    "plt.title('Sales by Region for Puzzle Games Per 100,000 Population')"
   ]
  },
  {
   "cell_type": "code",
   "execution_count": 317,
   "id": "967ec187",
   "metadata": {},
   "outputs": [
    {
     "data": {
      "text/html": [
       "<div>\n",
       "<style scoped>\n",
       "    .dataframe tbody tr th:only-of-type {\n",
       "        vertical-align: middle;\n",
       "    }\n",
       "\n",
       "    .dataframe tbody tr th {\n",
       "        vertical-align: top;\n",
       "    }\n",
       "\n",
       "    .dataframe thead th {\n",
       "        text-align: right;\n",
       "    }\n",
       "</style>\n",
       "<table border=\"1\" class=\"dataframe\">\n",
       "  <thead>\n",
       "    <tr style=\"text-align: right;\">\n",
       "      <th></th>\n",
       "      <th>name</th>\n",
       "      <th>year_of_release</th>\n",
       "      <th>genre</th>\n",
       "      <th>rating</th>\n",
       "      <th>na_sales</th>\n",
       "      <th>eu_sales</th>\n",
       "      <th>jp_sales</th>\n",
       "      <th>other_sales</th>\n",
       "      <th>critic_score</th>\n",
       "      <th>critic_count</th>\n",
       "      <th>user_score</th>\n",
       "      <th>user_count</th>\n",
       "    </tr>\n",
       "  </thead>\n",
       "  <tbody>\n",
       "    <tr>\n",
       "      <th>8</th>\n",
       "      <td>100 All-Time Favorites</td>\n",
       "      <td>2009</td>\n",
       "      <td>Puzzle</td>\n",
       "      <td>E</td>\n",
       "      <td>102.27</td>\n",
       "      <td>16.33</td>\n",
       "      <td>0.00</td>\n",
       "      <td>40000</td>\n",
       "      <td>NaN</td>\n",
       "      <td>0.0</td>\n",
       "      <td>6.2</td>\n",
       "      <td>6.0</td>\n",
       "    </tr>\n",
       "    <tr>\n",
       "      <th>123</th>\n",
       "      <td>Angry Birds</td>\n",
       "      <td>2011</td>\n",
       "      <td>Puzzle</td>\n",
       "      <td>E</td>\n",
       "      <td>0.00</td>\n",
       "      <td>24.49</td>\n",
       "      <td>0.00</td>\n",
       "      <td>50000</td>\n",
       "      <td>NaN</td>\n",
       "      <td>0.0</td>\n",
       "      <td>7.3</td>\n",
       "      <td>19.0</td>\n",
       "    </tr>\n",
       "    <tr>\n",
       "      <th>126</th>\n",
       "      <td>Angry Birds: Rio</td>\n",
       "      <td>2011</td>\n",
       "      <td>Puzzle</td>\n",
       "      <td>E</td>\n",
       "      <td>0.00</td>\n",
       "      <td>9.53</td>\n",
       "      <td>0.00</td>\n",
       "      <td>20000</td>\n",
       "      <td>NaN</td>\n",
       "      <td>0.0</td>\n",
       "      <td>NaN</td>\n",
       "      <td>0.0</td>\n",
       "    </tr>\n",
       "    <tr>\n",
       "      <th>133</th>\n",
       "      <td>Animal Genius</td>\n",
       "      <td>2007</td>\n",
       "      <td>Puzzle</td>\n",
       "      <td>E</td>\n",
       "      <td>29.22</td>\n",
       "      <td>0.00</td>\n",
       "      <td>0.00</td>\n",
       "      <td>10000</td>\n",
       "      <td>NaN</td>\n",
       "      <td>0.0</td>\n",
       "      <td>NaN</td>\n",
       "      <td>0.0</td>\n",
       "    </tr>\n",
       "    <tr>\n",
       "      <th>156</th>\n",
       "      <td>Archer Maclean's Mercury</td>\n",
       "      <td>2005</td>\n",
       "      <td>Puzzle</td>\n",
       "      <td>E</td>\n",
       "      <td>49.67</td>\n",
       "      <td>32.66</td>\n",
       "      <td>0.00</td>\n",
       "      <td>140000</td>\n",
       "      <td>7.5</td>\n",
       "      <td>39.0</td>\n",
       "      <td>6.6</td>\n",
       "      <td>21.0</td>\n",
       "    </tr>\n",
       "    <tr>\n",
       "      <th>...</th>\n",
       "      <td>...</td>\n",
       "      <td>...</td>\n",
       "      <td>...</td>\n",
       "      <td>...</td>\n",
       "      <td>...</td>\n",
       "      <td>...</td>\n",
       "      <td>...</td>\n",
       "      <td>...</td>\n",
       "      <td>...</td>\n",
       "      <td>...</td>\n",
       "      <td>...</td>\n",
       "      <td>...</td>\n",
       "    </tr>\n",
       "    <tr>\n",
       "      <th>5070</th>\n",
       "      <td>Yard Sale Hidden Treasures: Sunnyville</td>\n",
       "      <td>2010</td>\n",
       "      <td>Puzzle</td>\n",
       "      <td>E10+</td>\n",
       "      <td>29.22</td>\n",
       "      <td>0.00</td>\n",
       "      <td>0.00</td>\n",
       "      <td>10000</td>\n",
       "      <td>NaN</td>\n",
       "      <td>0.0</td>\n",
       "      <td>NaN</td>\n",
       "      <td>0.0</td>\n",
       "    </tr>\n",
       "    <tr>\n",
       "      <th>5090</th>\n",
       "      <td>Zendoku</td>\n",
       "      <td>2007</td>\n",
       "      <td>Puzzle</td>\n",
       "      <td>E</td>\n",
       "      <td>14.61</td>\n",
       "      <td>0.00</td>\n",
       "      <td>0.00</td>\n",
       "      <td>0</td>\n",
       "      <td>6.8</td>\n",
       "      <td>13.0</td>\n",
       "      <td>NaN</td>\n",
       "      <td>0.0</td>\n",
       "    </tr>\n",
       "    <tr>\n",
       "      <th>5105</th>\n",
       "      <td>Zoo Keeper</td>\n",
       "      <td>2004</td>\n",
       "      <td>Puzzle</td>\n",
       "      <td>E</td>\n",
       "      <td>29.22</td>\n",
       "      <td>1.36</td>\n",
       "      <td>39.03</td>\n",
       "      <td>10000</td>\n",
       "      <td>7.4</td>\n",
       "      <td>40.0</td>\n",
       "      <td>7.5</td>\n",
       "      <td>13.0</td>\n",
       "    </tr>\n",
       "    <tr>\n",
       "      <th>5113</th>\n",
       "      <td>ZooCube</td>\n",
       "      <td>2002</td>\n",
       "      <td>Puzzle</td>\n",
       "      <td>E</td>\n",
       "      <td>14.61</td>\n",
       "      <td>1.36</td>\n",
       "      <td>0.00</td>\n",
       "      <td>0</td>\n",
       "      <td>6.9</td>\n",
       "      <td>26.0</td>\n",
       "      <td>6.1</td>\n",
       "      <td>7.0</td>\n",
       "    </tr>\n",
       "    <tr>\n",
       "      <th>5125</th>\n",
       "      <td>echochrome</td>\n",
       "      <td>2008</td>\n",
       "      <td>Puzzle</td>\n",
       "      <td>E</td>\n",
       "      <td>0.00</td>\n",
       "      <td>1.36</td>\n",
       "      <td>62.44</td>\n",
       "      <td>0</td>\n",
       "      <td>7.9</td>\n",
       "      <td>28.0</td>\n",
       "      <td>7.7</td>\n",
       "      <td>13.0</td>\n",
       "    </tr>\n",
       "  </tbody>\n",
       "</table>\n",
       "<p>189 rows × 12 columns</p>\n",
       "</div>"
      ],
      "text/plain": [
       "                                        name  year_of_release   genre rating   \n",
       "8                     100 All-Time Favorites             2009  Puzzle      E  \\\n",
       "123                              Angry Birds             2011  Puzzle      E   \n",
       "126                         Angry Birds: Rio             2011  Puzzle      E   \n",
       "133                            Animal Genius             2007  Puzzle      E   \n",
       "156                 Archer Maclean's Mercury             2005  Puzzle      E   \n",
       "...                                      ...              ...     ...    ...   \n",
       "5070  Yard Sale Hidden Treasures: Sunnyville             2010  Puzzle   E10+   \n",
       "5090                                 Zendoku             2007  Puzzle      E   \n",
       "5105                              Zoo Keeper             2004  Puzzle      E   \n",
       "5113                                 ZooCube             2002  Puzzle      E   \n",
       "5125                              echochrome             2008  Puzzle      E   \n",
       "\n",
       "      na_sales  eu_sales  jp_sales  other_sales  critic_score  critic_count   \n",
       "8       102.27     16.33      0.00        40000           NaN           0.0  \\\n",
       "123       0.00     24.49      0.00        50000           NaN           0.0   \n",
       "126       0.00      9.53      0.00        20000           NaN           0.0   \n",
       "133      29.22      0.00      0.00        10000           NaN           0.0   \n",
       "156      49.67     32.66      0.00       140000           7.5          39.0   \n",
       "...        ...       ...       ...          ...           ...           ...   \n",
       "5070     29.22      0.00      0.00        10000           NaN           0.0   \n",
       "5090     14.61      0.00      0.00            0           6.8          13.0   \n",
       "5105     29.22      1.36     39.03        10000           7.4          40.0   \n",
       "5113     14.61      1.36      0.00            0           6.9          26.0   \n",
       "5125      0.00      1.36     62.44            0           7.9          28.0   \n",
       "\n",
       "      user_score  user_count  \n",
       "8            6.2         6.0  \n",
       "123          7.3        19.0  \n",
       "126          NaN         0.0  \n",
       "133          NaN         0.0  \n",
       "156          6.6        21.0  \n",
       "...          ...         ...  \n",
       "5070         NaN         0.0  \n",
       "5090         NaN         0.0  \n",
       "5105         7.5        13.0  \n",
       "5113         6.1         7.0  \n",
       "5125         7.7        13.0  \n",
       "\n",
       "[189 rows x 12 columns]"
      ]
     },
     "execution_count": 317,
     "metadata": {},
     "output_type": "execute_result"
    }
   ],
   "source": [
    "puzzle"
   ]
  },
  {
   "cell_type": "code",
   "execution_count": 331,
   "id": "51a209b1",
   "metadata": {},
   "outputs": [
    {
     "data": {
      "text/html": [
       "<div>\n",
       "<style scoped>\n",
       "    .dataframe tbody tr th:only-of-type {\n",
       "        vertical-align: middle;\n",
       "    }\n",
       "\n",
       "    .dataframe tbody tr th {\n",
       "        vertical-align: top;\n",
       "    }\n",
       "\n",
       "    .dataframe thead th {\n",
       "        text-align: right;\n",
       "    }\n",
       "</style>\n",
       "<table border=\"1\" class=\"dataframe\">\n",
       "  <thead>\n",
       "    <tr style=\"text-align: right;\">\n",
       "      <th></th>\n",
       "      <th>na_sales</th>\n",
       "      <th>eu_sales</th>\n",
       "      <th>jp_sales</th>\n",
       "    </tr>\n",
       "    <tr>\n",
       "      <th>rating</th>\n",
       "      <th></th>\n",
       "      <th></th>\n",
       "      <th></th>\n",
       "    </tr>\n",
       "  </thead>\n",
       "  <tbody>\n",
       "    <tr>\n",
       "      <th>E</th>\n",
       "      <td>10715.01</td>\n",
       "      <td>2871.09</td>\n",
       "      <td>9335.22</td>\n",
       "    </tr>\n",
       "    <tr>\n",
       "      <th>E10+</th>\n",
       "      <td>2270.37</td>\n",
       "      <td>1121.22</td>\n",
       "      <td>2692.84</td>\n",
       "    </tr>\n",
       "    <tr>\n",
       "      <th>T</th>\n",
       "      <td>245.45</td>\n",
       "      <td>54.43</td>\n",
       "      <td>78.05</td>\n",
       "    </tr>\n",
       "  </tbody>\n",
       "</table>\n",
       "</div>"
      ],
      "text/plain": [
       "        na_sales  eu_sales  jp_sales\n",
       "rating                              \n",
       "E       10715.01   2871.09   9335.22\n",
       "E10+     2270.37   1121.22   2692.84\n",
       "T         245.45     54.43     78.05"
      ]
     },
     "execution_count": 331,
     "metadata": {},
     "output_type": "execute_result"
    }
   ],
   "source": [
    "puzzle_by_rating = puzzle.groupby('rating').agg({\"na_sales\":\"sum\",\"eu_sales\":\"sum\",\"jp_sales\":\"sum\"})\n",
    "puzzle_by_rating"
   ]
  },
  {
   "cell_type": "markdown",
   "id": "fba360b8",
   "metadata": {},
   "source": [
    "North America and Japan have similar value in Sales for every 100,000 people. "
   ]
  },
  {
   "cell_type": "code",
   "execution_count": 323,
   "metadata": {},
   "outputs": [
    {
     "ename": "SyntaxError",
     "evalue": "invalid syntax (624936221.py, line 2)",
     "output_type": "error",
     "traceback": [
      "\u001b[0;36m  File \u001b[0;32m\"/var/folders/_n/2lzdwcvx2n9087rmk11qlfdw0000gn/T/ipykernel_52975/624936221.py\"\u001b[0;36m, line \u001b[0;32m2\u001b[0m\n\u001b[0;31m    puzzle_by_rating = puzzle.groupby('rating').agg([\"na_sales\",\"jp_sales\":\"sum\"])\u001b[0m\n\u001b[0m                                                                          ^\u001b[0m\n\u001b[0;31mSyntaxError\u001b[0m\u001b[0;31m:\u001b[0m invalid syntax\n"
     ]
    }
   ],
   "source": [
    "puzzle = sales[sales[\"genre\"] == \"Puzzle\"]\n",
    "puzzle_by_rating = puzzle.groupby('rating').agg([\"na_sales\",\"jp_sales\":\"sum\"])\n",
    "puzzle_by_rating[[\"na_sales\",\"eu_sales\",\"jp_sales\"]].sum().sort_values(ascending=False).plot(kind=\"bar\",stacked=True)"
   ]
  },
  {
   "cell_type": "markdown",
   "id": "a9e4d4c1",
   "metadata": {},
   "source": [
    "# Conclusions\n",
    "1. \n",
    "\n",
    "2. ER games should target Japan as sales show that Role-Playing games perform very well in Japan. \n",
    "\n",
    "3. \n"
   ]
  },
  {
   "cell_type": "markdown",
   "id": "067f01b5",
   "metadata": {},
   "source": []
  }
 ],
 "metadata": {
  "kernelspec": {
   "display_name": "Python 3 (ipykernel)",
   "language": "python",
   "name": "python3"
  },
  "language_info": {
   "codemirror_mode": {
    "name": "ipython",
    "version": 3
   },
   "file_extension": ".py",
   "mimetype": "text/x-python",
   "name": "python",
   "nbconvert_exporter": "python",
   "pygments_lexer": "ipython3",
   "version": "3.9.7"
  }
 },
 "nbformat": 4,
 "nbformat_minor": 5
}
